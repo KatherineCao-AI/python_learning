{
  "nbformat": 4,
  "nbformat_minor": 0,
  "metadata": {
    "colab": {
      "provenance": [],
      "authorship_tag": "ABX9TyOVhZ8CNwXPqITBp8fmus5+",
      "include_colab_link": true
    },
    "kernelspec": {
      "name": "python3",
      "display_name": "Python 3"
    },
    "language_info": {
      "name": "python"
    }
  },
  "cells": [
    {
      "cell_type": "markdown",
      "metadata": {
        "id": "view-in-github",
        "colab_type": "text"
      },
      "source": [
        "<a href=\"https://colab.research.google.com/github/KatherineCao-AI/python_learning/blob/main/KC_math.ipynb\" target=\"_parent\"><img src=\"https://colab.research.google.com/assets/colab-badge.svg\" alt=\"Open In Colab\"/></a>"
      ]
    },
    {
      "cell_type": "markdown",
      "source": [
        "Grade 5 P40, Question No. 6"
      ],
      "metadata": {
        "id": "QfO1xm-16-tI"
      }
    },
    {
      "cell_type": "code",
      "execution_count": null,
      "metadata": {
        "id": "rgSblTNx62Xk"
      },
      "outputs": [],
      "source": [
        "time_yuyan = 3 # hr\n",
        "distance_yuyan = 510 # km\n",
        "\n",
        "velocity_gezi = 74  # km/hr\n"
      ]
    },
    {
      "cell_type": "markdown",
      "source": [
        "Let's solve the velocity of Yuyan"
      ],
      "metadata": {
        "id": "OD3_tw_C7vsI"
      }
    },
    {
      "cell_type": "code",
      "source": [
        "velocity_yuyan = distance_yuyan / time_yuyan\n",
        "print(f\"yuyan's velocity is {velocity_yuyan} km/hr\")"
      ],
      "metadata": {
        "colab": {
          "base_uri": "https://localhost:8080/"
        },
        "id": "ifguXD1l7siP",
        "outputId": "d8facae5-cc38-4abd-f2ce-817f633638ae"
      },
      "execution_count": null,
      "outputs": [
        {
          "output_type": "stream",
          "name": "stdout",
          "text": [
            "yuyan's velocity is 170.0 km/hr\n"
          ]
        }
      ]
    },
    {
      "cell_type": "markdown",
      "source": [
        "then we calculate how many times of two velocity:"
      ],
      "metadata": {
        "id": "Cf2weroC8LFc"
      }
    },
    {
      "cell_type": "code",
      "source": [
        "multiple = velocity_yuyan/velocity_gezi\n",
        "\n",
        "print(f'the velocity of yuyan is {multiple:.1f} times of gezi')"
      ],
      "metadata": {
        "colab": {
          "base_uri": "https://localhost:8080/"
        },
        "id": "L1o7J5iM8QDc",
        "outputId": "7d2a4c57-d91f-4181-a163-79e8fd1f0d8c"
      },
      "execution_count": null,
      "outputs": [
        {
          "output_type": "stream",
          "name": "stdout",
          "text": [
            "the velocity of yuyan is 2.3 times of gezi\n"
          ]
        }
      ]
    },
    {
      "cell_type": "code",
      "source": [
        "P. 41 Question No. 7"
      ],
      "metadata": {
        "id": "E7pD9Bl29PAk"
      },
      "execution_count": null,
      "outputs": []
    },
    {
      "cell_type": "code",
      "source": [
        "flowr_per_cake =0.32  # kg/each cake\n",
        "total_flower = 100.0  # kg\n",
        "\n",
        "Num_cakes = total_flower/flowr_per_cake\n",
        "\n",
        "print(Num_cakes)"
      ],
      "metadata": {
        "colab": {
          "base_uri": "https://localhost:8080/"
        },
        "id": "GxYNPtcb9SVm",
        "outputId": "728e203e-f4e9-4791-ac43-466ed9e962af"
      },
      "execution_count": null,
      "outputs": [
        {
          "output_type": "stream",
          "name": "stdout",
          "text": [
            "312.5\n"
          ]
        }
      ]
    },
    {
      "cell_type": "code",
      "source": [
        "total_grape_weight= 680 # kg\n",
        "weigh_per_box = 15.0 # kg\n",
        "\n",
        "num_box = total_grape_weight/weigh_per_box\n",
        "\n",
        "print(num_box)\n",
        "\n",
        "print(int(total_grape_weight/weigh_per_box))\n",
        "print(total_grape_weight % weigh_per_box)"
      ],
      "metadata": {
        "colab": {
          "base_uri": "https://localhost:8080/"
        },
        "id": "ZYG0clc3-ewN",
        "outputId": "b378d6de-b299-4ee2-9d10-d7cbcbe7837b"
      },
      "execution_count": null,
      "outputs": [
        {
          "output_type": "stream",
          "name": "stdout",
          "text": [
            "45.333333333333336\n",
            "45\n",
            "5.0\n"
          ]
        }
      ]
    },
    {
      "cell_type": "code",
      "source": [
        "total_money = 80. # Yuan\n",
        "number_photo_album = 8\n",
        "money_photo_album = 45.6\n",
        "\n",
        "price_pen =2.5 # yuan/piece"
      ],
      "metadata": {
        "id": "etgSIOiY_Zt4"
      },
      "execution_count": null,
      "outputs": []
    },
    {
      "cell_type": "code",
      "source": [
        "money_left = total_money - money_photo_album\n",
        "num_pen = money_left/price_pen\n",
        "print(num_pen)\n",
        "print(money_left % price_pen)"
      ],
      "metadata": {
        "colab": {
          "base_uri": "https://localhost:8080/"
        },
        "id": "L8orQ-XE_8NZ",
        "outputId": "ea62ba95-67a8-46a4-ef8c-b1553bcfc45e"
      },
      "execution_count": null,
      "outputs": [
        {
          "output_type": "stream",
          "name": "stdout",
          "text": [
            "13.76\n",
            "1.8999999999999986\n"
          ]
        }
      ]
    },
    {
      "cell_type": "markdown",
      "source": [],
      "metadata": {
        "id": "60zzUUZKDB25"
      }
    },
    {
      "cell_type": "code",
      "source": [
        "total_orange_powder = 450 # g\n",
        "orange_powder_cup =16  # g/cup\n",
        "sugar_cup =9.0 # g/cup\n",
        "\n",
        "\n",
        "total_cups = total_orange_powder/orange_powder_cup\n",
        "total_sugar = total_cups * sugar_cup\n",
        "print(f\"total_sugar is {total_sugar} g\")"
      ],
      "metadata": {
        "colab": {
          "base_uri": "https://localhost:8080/"
        },
        "id": "nHcamcwRDFQu",
        "outputId": "402e4933-a7b0-4209-cbc5-b7285ba45faf"
      },
      "execution_count": null,
      "outputs": [
        {
          "output_type": "stream",
          "name": "stdout",
          "text": [
            "total_sugar is 253.125 g\n"
          ]
        }
      ]
    },
    {
      "cell_type": "markdown",
      "source": [],
      "metadata": {
        "id": "x38fhwXK64m0"
      }
    }
  ]
}