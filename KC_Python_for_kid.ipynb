{
  "nbformat": 4,
  "nbformat_minor": 0,
  "metadata": {
    "colab": {
      "provenance": [],
      "authorship_tag": "ABX9TyPI02ha5dZVFpPW9laiEoo9",
      "include_colab_link": true
    },
    "kernelspec": {
      "name": "python3",
      "display_name": "Python 3"
    },
    "language_info": {
      "name": "python"
    }
  },
  "cells": [
    {
      "cell_type": "markdown",
      "metadata": {
        "id": "view-in-github",
        "colab_type": "text"
      },
      "source": [
        "<a href=\"https://colab.research.google.com/github/KatherineCao-AI/python_learning/blob/main/KC_Python_for_kid.ipynb\" target=\"_parent\"><img src=\"https://colab.research.google.com/assets/colab-badge.svg\" alt=\"Open In Colab\"/></a>"
      ]
    },
    {
      "cell_type": "code",
      "execution_count": null,
      "metadata": {
        "colab": {
          "base_uri": "https://localhost:8080/"
        },
        "id": "IrD3iiMQtMx0",
        "outputId": "5ccde2b8-a3bc-42bf-f5cb-f00f6425e2b3"
      },
      "outputs": [
        {
          "output_type": "stream",
          "name": "stdout",
          "text": [
            "toys\n",
            "10\n",
            "Hello, World!\n"
          ]
        }
      ],
      "source": [
        "# Let's say you have a box to store things.\n",
        "# You can give the box a name, like \"my_box\".\n",
        "# Here, \"my_box\" is a variable.\n",
        "\n",
        "my_box = \"toys\"\n",
        "print(my_box)  # Output: toys\n",
        "\n",
        "# Variables can store different types of things too.\n",
        "# For example, you can store numbers in a variable.\n",
        "my_number = 10\n",
        "print(my_number)  # Output: 10\n",
        "\n",
        "# You can also combine variables together.\n",
        "my_message = \"Hello, \" + \"World!\"\n",
        "print(my_message)  # Output: Hello, world!"
      ]
    },
    {
      "cell_type": "code",
      "source": [],
      "metadata": {
        "id": "05XCFpxBZ8Us"
      },
      "execution_count": null,
      "outputs": []
    },
    {
      "cell_type": "code",
      "source": [],
      "metadata": {
        "id": "e7W6v6mmmkFa"
      },
      "execution_count": null,
      "outputs": []
    },
    {
      "cell_type": "code",
      "source": [
        "fruits = [\"apple\", 1, \"orange\"]\n",
        "print(fruits)"
      ],
      "metadata": {
        "colab": {
          "base_uri": "https://localhost:8080/"
        },
        "id": "HWnOWTnmvCsf",
        "outputId": "1c839e42-8dc7-47ad-c15f-5b6d5498e6d1"
      },
      "execution_count": null,
      "outputs": [
        {
          "output_type": "stream",
          "name": "stdout",
          "text": [
            "['apple', 1, 'orange']\n"
          ]
        }
      ]
    },
    {
      "cell_type": "code",
      "source": [
        "Days=(\"Sunday\",\"Monday\",\"Tuesday\")\n",
        "Days[0]"
      ],
      "metadata": {
        "colab": {
          "base_uri": "https://localhost:8080/",
          "height": 38
        },
        "id": "RVY6DRvxvIUa",
        "outputId": "4f05ace0-0c64-48dc-dd7f-fae0dbf450ed"
      },
      "execution_count": null,
      "outputs": [
        {
          "output_type": "execute_result",
          "data": {
            "text/plain": [
              "'Sunday'"
            ],
            "application/vnd.google.colaboratory.intrinsic+json": {
              "type": "string"
            }
          },
          "metadata": {},
          "execution_count": 65
        }
      ]
    },
    {
      "cell_type": "code",
      "source": [
        "person = {\"name\": \"Bob\", \"age\": 12, \"country\": \"USA\", 'gender':'male'}\n",
        "print(person)"
      ],
      "metadata": {
        "colab": {
          "base_uri": "https://localhost:8080/"
        },
        "id": "TvjHjF_9vxQJ",
        "outputId": "c295dc3c-3100-4dbf-f3e3-02bbf4e34c6e"
      },
      "execution_count": null,
      "outputs": [
        {
          "output_type": "stream",
          "name": "stdout",
          "text": [
            "{'name': 'Bob', 'age': 12, 'country': 'USA', 'gender': 'male'}\n"
          ]
        }
      ]
    },
    {
      "cell_type": "code",
      "source": [
        "person['name']"
      ],
      "metadata": {
        "colab": {
          "base_uri": "https://localhost:8080/",
          "height": 38
        },
        "id": "T2bUZbbEvy_9",
        "outputId": "802c283f-24e4-4e55-d5ca-180842e4ddb5"
      },
      "execution_count": null,
      "outputs": [
        {
          "output_type": "execute_result",
          "data": {
            "text/plain": [
              "'Bob'"
            ],
            "application/vnd.google.colaboratory.intrinsic+json": {
              "type": "string"
            }
          },
          "metadata": {},
          "execution_count": 67
        }
      ]
    },
    {
      "cell_type": "code",
      "source": [
        "person['gender']"
      ],
      "metadata": {
        "colab": {
          "base_uri": "https://localhost:8080/",
          "height": 38
        },
        "id": "jGFAuc69v96B",
        "outputId": "94f037fe-dc68-4ec8-ecb0-b7c202dfb214"
      },
      "execution_count": null,
      "outputs": [
        {
          "output_type": "execute_result",
          "data": {
            "text/plain": [
              "'male'"
            ],
            "application/vnd.google.colaboratory.intrinsic+json": {
              "type": "string"
            }
          },
          "metadata": {},
          "execution_count": 68
        }
      ]
    },
    {
      "cell_type": "code",
      "source": [
        "Animals = {\"lion\": \"Lions are known as the kings of the jungle\",\n",
        "            \"elephant\": \"Elephants have a great memory\"}\n",
        "print(Animals)"
      ],
      "metadata": {
        "colab": {
          "base_uri": "https://localhost:8080/"
        },
        "id": "5zqQG5DswhB9",
        "outputId": "bc618276-9de3-4175-f3f0-ecd1d6b78b26"
      },
      "execution_count": null,
      "outputs": [
        {
          "output_type": "stream",
          "name": "stdout",
          "text": [
            "{'lion': 'Lions are known as the kings of the jungle', 'elephant': 'Elephants have a great memory'}\n"
          ]
        }
      ]
    },
    {
      "cell_type": "code",
      "source": [
        "print(Animals['lion'])\n"
      ],
      "metadata": {
        "colab": {
          "base_uri": "https://localhost:8080/"
        },
        "id": "Tn3gPAgTwicv",
        "outputId": "97314bae-13b1-4bb6-fb30-622887b3fec8"
      },
      "execution_count": null,
      "outputs": [
        {
          "output_type": "stream",
          "name": "stdout",
          "text": [
            "Lions are known as the kings of the jungle\n"
          ]
        }
      ]
    },
    {
      "cell_type": "code",
      "source": [
        "Animals={\"hummingbirds\":\"they have sharp long small beaks to suck necter\"}\n",
        "Animals['hummingbirds']"
      ],
      "metadata": {
        "colab": {
          "base_uri": "https://localhost:8080/",
          "height": 38
        },
        "id": "Vtodm1gYwrIw",
        "outputId": "ce58cd6f-bbc9-4474-cdff-d72fcf8dfa8a"
      },
      "execution_count": null,
      "outputs": [
        {
          "output_type": "execute_result",
          "data": {
            "text/plain": [
              "'they have sharp long small beaks to suck necter'"
            ],
            "application/vnd.google.colaboratory.intrinsic+json": {
              "type": "string"
            }
          },
          "metadata": {},
          "execution_count": 71
        }
      ]
    },
    {
      "cell_type": "code",
      "source": [
        "# Let's create a set of your favourite fruits\n",
        "favorite_fruits = {\"apple\", \"banana\", \"orange\"}\n",
        "\n",
        "# Now, let's print the set\n",
        "print(favorite_fruits)\n",
        "\n",
        "# Adding a new fruit to the set\n",
        "favorite_fruits.add(\"grapes\")\n",
        "print(favorite_fruits)\n",
        "\n"
      ],
      "metadata": {
        "colab": {
          "base_uri": "https://localhost:8080/"
        },
        "id": "NtrGZpJjxJ_k",
        "outputId": "9caa8b40-6a4c-4928-89de-3f75c0da7da9"
      },
      "execution_count": null,
      "outputs": [
        {
          "output_type": "stream",
          "name": "stdout",
          "text": [
            "{'apple', 'banana', 'orange'}\n",
            "{'apple', 'grapes', 'banana', 'orange'}\n"
          ]
        }
      ]
    },
    {
      "cell_type": "code",
      "source": [
        "# Trying to add a duplicate fruit (banana)\n",
        "#favorite_fruits.add(\"banana\")  # This won't be added because sets only keep unique items\n",
        "#print(favorite_fruits)\n",
        "\n"
      ],
      "metadata": {
        "id": "SgPSMqn4xbdo"
      },
      "execution_count": null,
      "outputs": []
    },
    {
      "cell_type": "code",
      "source": [
        "favorite_fruits = {\"apple\", \"banana\", \"orange\"}\n",
        "\n",
        "print(len(favorite_fruits))\n",
        "#print(\"banana\" in favorite_fruits)"
      ],
      "metadata": {
        "colab": {
          "base_uri": "https://localhost:8080/"
        },
        "id": "5ROuq91N0H0L",
        "outputId": "6fd00309-77c5-43e9-8804-59971968e6c3"
      },
      "execution_count": null,
      "outputs": [
        {
          "output_type": "stream",
          "name": "stdout",
          "text": [
            "3\n"
          ]
        }
      ]
    },
    {
      "cell_type": "code",
      "source": [
        "def add(a, b):\n",
        "    return a + b\n",
        "\n",
        "\n",
        "a = 10\n",
        "b = 5\n",
        "\n",
        "# calling function\n",
        "res = add(a,b)\n",
        "\n",
        "print(res)"
      ],
      "metadata": {
        "colab": {
          "base_uri": "https://localhost:8080/"
        },
        "id": "4S6i4ClF1V1X",
        "outputId": "737171c1-744d-40e9-d1a0-6623b7f37844"
      },
      "execution_count": null,
      "outputs": [
        {
          "output_type": "stream",
          "name": "stdout",
          "text": [
            "15\n"
          ]
        }
      ]
    },
    {
      "cell_type": "code",
      "source": [
        "a = 7\n",
        "b = 3\n",
        "print(max(a, b))"
      ],
      "metadata": {
        "colab": {
          "base_uri": "https://localhost:8080/"
        },
        "id": "NiUwLrMF1qw4",
        "outputId": "e542ac18-8bd1-4155-d2dc-5e0ac1f21c14"
      },
      "execution_count": null,
      "outputs": [
        {
          "output_type": "stream",
          "name": "stdout",
          "text": [
            "7\n"
          ]
        }
      ]
    },
    {
      "cell_type": "code",
      "source": [
        "print(min(a,b))"
      ],
      "metadata": {
        "colab": {
          "base_uri": "https://localhost:8080/"
        },
        "id": "4NTT5OQV1x0r",
        "outputId": "c48d2ff7-dd8b-4219-b1dd-e988e60976cc"
      },
      "execution_count": null,
      "outputs": [
        {
          "output_type": "stream",
          "name": "stdout",
          "text": [
            "3\n"
          ]
        }
      ]
    },
    {
      "cell_type": "code",
      "source": [
        "def max_kc(x, y,z):\n",
        "\n",
        "  if  x > y and x > z:\n",
        "    return x\n",
        "  elif y> x and y> z :\n",
        "    return y\n",
        "  else:\n",
        "    return  z\n",
        "\n",
        "c = max_kc(3, 5,8)\n",
        "\n",
        "print(c)\n",
        "\n",
        "#d= max(3,5)\n",
        "#print(d)"
      ],
      "metadata": {
        "colab": {
          "base_uri": "https://localhost:8080/"
        },
        "id": "dmTdZpK316nD",
        "outputId": "674e6744-eb2a-4e59-df2e-a98c49993842"
      },
      "execution_count": null,
      "outputs": [
        {
          "output_type": "stream",
          "name": "stdout",
          "text": [
            "8\n"
          ]
        }
      ]
    },
    {
      "cell_type": "code",
      "source": [
        "a = 7\n",
        "b = 3\n",
        "print(a if a > b else b)"
      ],
      "metadata": {
        "colab": {
          "base_uri": "https://localhost:8080/"
        },
        "id": "P4o19Yf-2pBI",
        "outputId": "18f83745-70e4-4956-d4f7-d6450e4ac466"
      },
      "execution_count": null,
      "outputs": [
        {
          "output_type": "stream",
          "name": "stdout",
          "text": [
            "7\n"
          ]
        }
      ]
    },
    {
      "cell_type": "code",
      "source": [
        "a = 7\n",
        "b = 3\n",
        "\n",
        "if a > b:\n",
        "    print(a)\n",
        "else:\n",
        "    print(b)"
      ],
      "metadata": {
        "colab": {
          "base_uri": "https://localhost:8080/"
        },
        "id": "1VMXASky4ENV",
        "outputId": "93b54788-df67-46c0-cb14-5e0b08096dd3"
      },
      "execution_count": null,
      "outputs": [
        {
          "output_type": "stream",
          "name": "stdout",
          "text": [
            "7\n"
          ]
        }
      ]
    },
    {
      "cell_type": "code",
      "source": [
        "\n",
        "num = [8, 2]\n",
        "num.sort()\n",
        "print(num)\n",
        "print(num[-1])"
      ],
      "metadata": {
        "colab": {
          "base_uri": "https://localhost:8080/"
        },
        "id": "hMmSuF2l4Q_P",
        "outputId": "d098c7b3-4375-44a0-ab21-89ffc8bb0487"
      },
      "execution_count": null,
      "outputs": [
        {
          "output_type": "stream",
          "name": "stdout",
          "text": [
            "[2, 8]\n",
            "8\n"
          ]
        }
      ]
    },
    {
      "cell_type": "code",
      "source": [
        "a = [1, 2, 3, 4, 5, 6, 7, 8, 9, 10]\n",
        "\n",
        "\n",
        "res = [val for val in a if val % 2 == 0]\n",
        "print(res)\n",
        "\n",
        "\n",
        "\n",
        "\n"
      ],
      "metadata": {
        "colab": {
          "base_uri": "https://localhost:8080/"
        },
        "id": "zUiXpodi6Hie",
        "outputId": "0acd6651-9725-4b26-ddbd-982f4f449593"
      },
      "execution_count": null,
      "outputs": [
        {
          "output_type": "stream",
          "name": "stdout",
          "text": [
            "[2, 4, 6, 8, 10]\n"
          ]
        }
      ]
    },
    {
      "cell_type": "code",
      "source": [
        "res =[]\n",
        "for val in a:\n",
        "  if val %2 ==0:\n",
        "    res.append(val)\n",
        "\n",
        "print(res)"
      ],
      "metadata": {
        "colab": {
          "base_uri": "https://localhost:8080/"
        },
        "id": "tVKzIgC37I9W",
        "outputId": "30091970-93e6-446d-ad6c-d1d8ddcb8672"
      },
      "execution_count": null,
      "outputs": [
        {
          "output_type": "stream",
          "name": "stdout",
          "text": [
            "[2, 4, 6, 8, 10]\n"
          ]
        }
      ]
    },
    {
      "cell_type": "code",
      "source": [
        "for i in range(5):\n",
        "    print(f\" {i}, Hello!\")\n",
        "    if i%2 == 0:\n",
        "      print(f\" {i},how are you\")"
      ],
      "metadata": {
        "colab": {
          "base_uri": "https://localhost:8080/"
        },
        "id": "HSMG4VJl8HaH",
        "outputId": "d305ef0e-49b7-4a44-e18c-99ad36e7d182"
      },
      "execution_count": null,
      "outputs": [
        {
          "output_type": "stream",
          "name": "stdout",
          "text": [
            " 0, Hello!\n",
            " 0,how are you\n",
            " 1, Hello!\n",
            " 2, Hello!\n",
            " 2,how are you\n",
            " 3, Hello!\n",
            " 4, Hello!\n",
            " 4,how are you\n"
          ]
        }
      ]
    },
    {
      "cell_type": "code",
      "source": [
        "a =list(range(5))\n",
        "print(a)"
      ],
      "metadata": {
        "colab": {
          "base_uri": "https://localhost:8080/"
        },
        "id": "oPJgvy2E8azr",
        "outputId": "4428fa36-7472-40f8-9e91-208a272197b2"
      },
      "execution_count": null,
      "outputs": [
        {
          "output_type": "stream",
          "name": "stdout",
          "text": [
            "[0, 1, 2, 3, 4]\n"
          ]
        }
      ]
    },
    {
      "cell_type": "code",
      "source": [
        "count = 0\n",
        "\n",
        "while count < 5:\n",
        "    print(\"Hello!\")\n",
        "    count += 1\n",
        "\n",
        "print('while is finished')"
      ],
      "metadata": {
        "colab": {
          "base_uri": "https://localhost:8080/"
        },
        "id": "hwvY1eZz9ShW",
        "outputId": "2f518b93-b34f-4322-b0f9-4cc55eb8a723"
      },
      "execution_count": null,
      "outputs": [
        {
          "output_type": "stream",
          "name": "stdout",
          "text": [
            "Hello!\n",
            "Hello!\n",
            "Hello!\n",
            "Hello!\n",
            "Hello!\n",
            "while is finished\n"
          ]
        }
      ]
    },
    {
      "cell_type": "code",
      "source": [
        "for i in range(10):\n",
        "    print(f\" {i}, Hello!\")\n",
        "    if i==6:\n",
        "      break\n",
        "\n",
        "print('loop finnished')"
      ],
      "metadata": {
        "colab": {
          "base_uri": "https://localhost:8080/"
        },
        "id": "lzAgQbdl9iby",
        "outputId": "6c7b2760-fb50-44f0-d29c-1087d3875b4d"
      },
      "execution_count": null,
      "outputs": [
        {
          "output_type": "stream",
          "name": "stdout",
          "text": [
            " 0, Hello!\n",
            " 1, Hello!\n",
            " 2, Hello!\n",
            " 3, Hello!\n",
            " 4, Hello!\n",
            " 5, Hello!\n",
            " 6, Hello!\n",
            "loop finnished\n"
          ]
        }
      ]
    },
    {
      "cell_type": "code",
      "source": [
        "# Creating a list of numbers\n",
        "a = [1, 2, 3, 4, 5, 6, 7, 8, 9]\n",
        "\n",
        "# Initializing counters for even and odd numbers\n",
        "even = 0\n",
        "odd = 0\n",
        "\n",
        "for num in a:\n",
        "\n",
        "    # Checking if the number is even\n",
        "    if num % 2 == 0:\n",
        "        #even += 1\n",
        "        even = even +1\n",
        "        print(\"even number:\", num)\n",
        "    else:\n",
        "        #odd += 1\n",
        "        odd =odd +1\n",
        "        print(\"odd number:\", num)\n",
        "\n",
        "# Printing the results\n",
        "print(\"\\nEven numbers:\", even)\n",
        "print(\"Odd numbers:\", odd)"
      ],
      "metadata": {
        "id": "brSa2Pss9py-",
        "colab": {
          "base_uri": "https://localhost:8080/"
        },
        "outputId": "65786ca0-0e0e-4ef9-dd7c-8284b24eba32"
      },
      "execution_count": null,
      "outputs": [
        {
          "output_type": "stream",
          "name": "stdout",
          "text": [
            "odd number: 1\n",
            "even number: 2\n",
            "odd number: 3\n",
            "even number: 4\n",
            "odd number: 5\n",
            "even number: 6\n",
            "odd number: 7\n",
            "even number: 8\n",
            "odd number: 9\n",
            "\n",
            "Even numbers: 4\n",
            "Odd numbers: 5\n"
          ]
        }
      ]
    },
    {
      "cell_type": "code",
      "source": [
        "# Creating a list of numbers\n",
        "a = [5, -3, 7, -1, 2, -9, 4]\n",
        "\n",
        "# Initializing counters for even and odd numbers\n",
        "\n",
        "\n",
        "for num in a:\n",
        "\n",
        "    # Checking if the number is even\n",
        "    if num <0:\n",
        "\n",
        "        print(\"negative number:\", num)\n",
        "\n"
      ],
      "metadata": {
        "colab": {
          "base_uri": "https://localhost:8080/"
        },
        "id": "PuFIbhMfnwNg",
        "outputId": "13e3c338-eeae-40d2-9863-a2629340ba58"
      },
      "execution_count": null,
      "outputs": [
        {
          "output_type": "stream",
          "name": "stdout",
          "text": [
            "negative number: -3\n",
            "negative number: -1\n",
            "negative number: -9\n"
          ]
        }
      ]
    },
    {
      "cell_type": "code",
      "source": [
        "a = [5, -3, 7, -1, 2, -9, 4]\n",
        "\n",
        "# Using list comprehension to filter negative numbers\n",
        "n = [num for num in a if num < 0]\n",
        "\n",
        "print(n)"
      ],
      "metadata": {
        "colab": {
          "base_uri": "https://localhost:8080/"
        },
        "id": "HQvQMmJHokJO",
        "outputId": "a8e408a5-4d09-43a9-9094-807efae31710"
      },
      "execution_count": null,
      "outputs": [
        {
          "output_type": "stream",
          "name": "stdout",
          "text": [
            "[-3, -1, -9]\n"
          ]
        }
      ]
    },
    {
      "cell_type": "code",
      "source": [
        "a = [1, 2, 3, 4]\n",
        "\n",
        "total = 0\n",
        "cumulative_sum = []\n",
        "for num in a:\n",
        "\n",
        "  # Add the current number to the running total\n",
        "    total += num\n",
        "\n",
        "    # Store the running total in the result list\n",
        "    cumulative_sum.append(total)\n",
        "print(cumulative_sum)"
      ],
      "metadata": {
        "colab": {
          "base_uri": "https://localhost:8080/"
        },
        "id": "24iDcatapCYt",
        "outputId": "45bc0608-6278-43bf-ead9-35c2b344d0a4"
      },
      "execution_count": null,
      "outputs": [
        {
          "output_type": "stream",
          "name": "stdout",
          "text": [
            "[1, 3, 6, 10]\n"
          ]
        }
      ]
    },
    {
      "cell_type": "code",
      "source": [
        "l = [1, 2, 3, 4]\n",
        "\n",
        "total = 0\n",
        "cumulative_sum = []\n",
        "for num in l:\n",
        "\n",
        "  # Add the current number to the running total\n",
        "    total += num\n",
        "\n",
        "    # Store the running total in the result list\n",
        "cumulative_sum.append(total)\n",
        "print(cumulative_sum[0])"
      ],
      "metadata": {
        "colab": {
          "base_uri": "https://localhost:8080/"
        },
        "id": "GsCt-g93pmC8",
        "outputId": "2798ba8a-676a-47a9-8ea2-377d6b97bb1b"
      },
      "execution_count": null,
      "outputs": [
        {
          "output_type": "stream",
          "name": "stdout",
          "text": [
            "10\n"
          ]
        }
      ]
    },
    {
      "cell_type": "code",
      "source": [
        "a = [2, 4, 8, 3]\n",
        "res = 1\n",
        "\n",
        "for val in a:\n",
        "  print('val =', val)\n",
        "  print('old res = ', res)\n",
        "  res = res * val\n",
        "  print('new res =old res * val', res)\n",
        "  print('\\n')\n",
        "\n",
        "print(res)"
      ],
      "metadata": {
        "colab": {
          "base_uri": "https://localhost:8080/"
        },
        "id": "nJII27M6ssLo",
        "outputId": "04ca20d8-2fb8-4940-ee7b-79be51f94cde"
      },
      "execution_count": null,
      "outputs": [
        {
          "output_type": "stream",
          "name": "stdout",
          "text": [
            "val = 2\n",
            "old res =  1\n",
            "new res =old res * val 2\n",
            "\n",
            "\n",
            "val = 4\n",
            "old res =  2\n",
            "new res =old res * val 8\n",
            "\n",
            "\n",
            "val = 8\n",
            "old res =  8\n",
            "new res =old res * val 64\n",
            "\n",
            "\n",
            "val = 3\n",
            "old res =  64\n",
            "new res =old res * val 192\n",
            "\n",
            "\n",
            "192\n"
          ]
        }
      ]
    },
    {
      "cell_type": "code",
      "source": [
        "# Function to prepare the dough\n",
        "def prepare_dough():\n",
        "    print(\"Preparing the dough...\")\n",
        "\n",
        "# Function to add toppings\n",
        "def add_toppings():\n",
        "    print(\"Adding toppings...\")\n",
        "\n",
        "# Function to bake the pizza\n",
        "def bake_pizza():\n",
        "    print(\"Baking the pizza...\")\n",
        "\n",
        "# Calling the functions\n",
        "prepare_dough()\n",
        "add_toppings()\n",
        "bake_pizza()\n",
        "\n",
        "print('\\n')\n",
        "\n",
        "prepare_dough()\n",
        "add_toppings()\n",
        "bake_pizza()\n",
        "print('\\n')\n",
        "\n",
        "prepare_dough()\n",
        "add_toppings()\n",
        "bake_pizza()\n"
      ],
      "metadata": {
        "colab": {
          "base_uri": "https://localhost:8080/"
        },
        "id": "O4QNAJ05GbQb",
        "outputId": "8a80113f-f045-4e6d-a10a-b3de8dec2d58"
      },
      "execution_count": null,
      "outputs": [
        {
          "output_type": "stream",
          "name": "stdout",
          "text": [
            "Preparing the dough...\n",
            "Adding toppings...\n",
            "Baking the pizza...\n",
            "\n",
            "\n",
            "Preparing the dough...\n",
            "Adding toppings...\n",
            "Baking the pizza...\n",
            "\n",
            "\n",
            "Preparing the dough...\n",
            "Adding toppings...\n",
            "Baking the pizza...\n"
          ]
        }
      ]
    },
    {
      "cell_type": "code",
      "source": [],
      "metadata": {
        "id": "FWuQlzD_Z-LJ"
      },
      "execution_count": null,
      "outputs": []
    },
    {
      "cell_type": "code",
      "source": [],
      "metadata": {
        "id": "uHTFhLo1G9gb"
      },
      "execution_count": null,
      "outputs": []
    }
  ]
}