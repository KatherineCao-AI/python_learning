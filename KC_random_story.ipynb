{
  "nbformat": 4,
  "nbformat_minor": 0,
  "metadata": {
    "colab": {
      "provenance": [],
      "include_colab_link": true
    },
    "kernelspec": {
      "name": "python3",
      "display_name": "Python 3"
    },
    "language_info": {
      "name": "python"
    }
  },
  "cells": [
    {
      "cell_type": "markdown",
      "metadata": {
        "id": "view-in-github",
        "colab_type": "text"
      },
      "source": [
        "<a href=\"https://colab.research.google.com/github/KatherineCao-AI/python_learning/blob/main/KC_random_story.ipynb\" target=\"_parent\"><img src=\"https://colab.research.google.com/assets/colab-badge.svg\" alt=\"Open In Colab\"/></a>"
      ]
    },
    {
      "cell_type": "code",
      "execution_count": null,
      "metadata": {
        "id": "J94-It-9l2B3"
      },
      "outputs": [],
      "source": [
        "# Importing random module\n",
        "import random\n",
        "\n",
        "# Defining list of phrases which will help to build a story\n",
        "\n",
        "Sentence_starter = ['About 100 years ago', ' In the 20 BC', 'Once upon a time']\n",
        "character = [' there lived a boy called Charlie.',' there was a man named Jack.',\n",
        "             ' there lived a farmer.']\n",
        "time = [' One day,', ' One night','in the early morning']\n",
        "story_plot = [' he was passing by',' he was going for a picnic to ','He was on his way home from goiong to']\n",
        "place = [' some hills', ' a garden',' a friends house']\n",
        "second_character = [' he saw a man', ' he saw a young lady']\n",
        "age = [' who seemed to be in late 20s', ' who seemed very old fashioned and serious']\n",
        "work = [' going to the shoe shop.', ' sitting alone on a bench near the roadside.','calling for a taxi']\n",
        "after= ['He quickly wanted to avoid the mysterious person','He was curiouse about the person, but still walked away.','He smiled and waved before walking away.']\n",
        "\n",
        "times= int(input(\"Please input how many stories you want to generate=\"))\n",
        "\n",
        "for i in range(1,times+1):\n",
        "\n",
        "    if i ==1:\n",
        "        print(f\"\\nthis is the {i}-st story:\\n\")\n",
        "    elif i ==2:\n",
        "        print(f\"\\nthis is the {i}-nd story:\\n\")\n",
        "    elif i ==3:\n",
        "        print(f\"\\nthis is the {i}-rd story:\\n\")\n",
        "    else:\n",
        "        print(f\"\\nthis is the {i}-th story:\\n\")\n",
        "\n",
        "\n",
        "    # Selecting an item from each list and concatenating them.\n",
        "    print(random.choice(Sentence_starter)+random.choice(character)+\n",
        "          random.choice(time)+random.choice(story_plot) +\n",
        "          random.choice(place)+random.choice(second_character)+\n",
        "          random.choice(age)+random.choice(work)+\n",
        "          random.choice(after))\n",
        "\n",
        "    print(\"thanks for reading\")\n",
        "\n",
        "\n"
      ]
    }
  ]
}