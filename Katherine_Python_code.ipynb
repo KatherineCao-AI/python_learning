{
  "nbformat": 4,
  "nbformat_minor": 0,
  "metadata": {
    "colab": {
      "provenance": [],
      "authorship_tag": "ABX9TyOy9AQT9hnruNOcHSe85mD8",
      "include_colab_link": true
    },
    "kernelspec": {
      "name": "python3",
      "display_name": "Python 3"
    },
    "language_info": {
      "name": "python"
    }
  },
  "cells": [
    {
      "cell_type": "markdown",
      "metadata": {
        "id": "view-in-github",
        "colab_type": "text"
      },
      "source": [
        "<a href=\"https://colab.research.google.com/github/KatherineCao-AI/python_learning/blob/main/Katherine_Python_code.ipynb\" target=\"_parent\"><img src=\"https://colab.research.google.com/assets/colab-badge.svg\" alt=\"Open In Colab\"/></a>"
      ]
    },
    {
      "cell_type": "code",
      "execution_count": null,
      "metadata": {
        "id": "Cni82JEDQ-5t",
        "colab": {
          "base_uri": "https://localhost:8080/"
        },
        "outputId": "e53190a8-c181-4fda-8b0b-73c407769789"
      },
      "outputs": [
        {
          "output_type": "stream",
          "name": "stdout",
          "text": [
            "Hello World, My name is KC\n"
          ]
        }
      ],
      "source": [
        "print(\"Hello World, My name is KC\")"
      ]
    },
    {
      "cell_type": "code",
      "source": [],
      "metadata": {
        "id": "2U9pZUBoeQ8o"
      },
      "execution_count": null,
      "outputs": []
    },
    {
      "cell_type": "code",
      "source": [
        "\"\"\"\n",
        "This is a multi-line comment.\n",
        "It can be used to describe larger sections of code.\n",
        "\"\"\""
      ],
      "metadata": {
        "id": "-Vn84hE3Y3Wf",
        "colab": {
          "base_uri": "https://localhost:8080/",
          "height": 38
        },
        "outputId": "439ce7c0-2fdc-4ae2-9315-50fc6637cabb"
      },
      "execution_count": null,
      "outputs": [
        {
          "output_type": "execute_result",
          "data": {
            "text/plain": [
              "'\\nThis is a multi-line comment.\\nIt can be used to describe larger sections of code.\\n'"
            ],
            "application/vnd.google.colaboratory.intrinsic+json": {
              "type": "string"
            }
          },
          "metadata": {},
          "execution_count": 24
        }
      ]
    },
    {
      "cell_type": "code",
      "source": [
        "a =4\n",
        "b =10\n",
        "\n",
        "if a > b:\n",
        "    print(\"a > b\")\n",
        "else:\n",
        "    print (\"a < b\")\n",
        "\n",
        "\n",
        "a =12\n",
        "b =10\n",
        "\n",
        "if a > b:\n",
        "    print(\"a > b\")\n",
        "else:\n",
        "    print (\"a < b\")"
      ],
      "metadata": {
        "id": "5gwEKFZ9Y9Fp",
        "colab": {
          "base_uri": "https://localhost:8080/"
        },
        "outputId": "8ac6c914-1afe-42bd-a44b-dea29aaee9f3"
      },
      "execution_count": null,
      "outputs": [
        {
          "output_type": "stream",
          "name": "stdout",
          "text": [
            "a < b\n",
            "a > b\n",
            "I am tab indentation\n"
          ]
        }
      ]
    },
    {
      "cell_type": "code",
      "source": [
        "def my_func(x, y):\n",
        "  if x > y:\n",
        "    print(\"x > y\")\n",
        "  else:\n",
        "    print (\"x < y\")\n",
        "\n",
        "a =4\n",
        "b =10\n",
        "my_func(a, b)\n",
        "\n",
        "a =12\n",
        "b =10\n",
        "my_func(a, b)"
      ],
      "metadata": {
        "colab": {
          "base_uri": "https://localhost:8080/"
        },
        "id": "nf6yBMgfZXAZ",
        "outputId": "8ac598ff-4a74-495e-b7fd-78930fc63c10"
      },
      "execution_count": null,
      "outputs": [
        {
          "output_type": "stream",
          "name": "stdout",
          "text": [
            "x < y\n",
            "x > y\n"
          ]
        }
      ]
    },
    {
      "cell_type": "code",
      "source": [
        "# Page 36\n",
        "t1 = 3.5 # work 3.5 hrs in the morning\n",
        "length1 = 164.9 # in meter\n",
        "\n",
        "t2 = 4.5 # work 4.5 hrs in the afternoon\n",
        "length2 = 206.7\n",
        "\n",
        "vel_1 = length1/t1\n",
        "vel_2 = length2/t2\n",
        "\n",
        "def comp_vel(vel_morning, vel_afternoon):\n",
        "  if vel_morning > vel_afternoon:\n",
        "    print(\"the morning is faster\")\n",
        "  else:\n",
        "    print(\"the afternoon is faster\")\n",
        "\n",
        "\n",
        "comp_vel(vel_1, vel_2)"
      ],
      "metadata": {
        "colab": {
          "base_uri": "https://localhost:8080/"
        },
        "id": "uBUM5AzggNzi",
        "outputId": "2097b36b-bdef-478b-c99b-b3fbeaf7c858"
      },
      "execution_count": null,
      "outputs": [
        {
          "output_type": "stream",
          "name": "stdout",
          "text": [
            "the morning is faster\n"
          ]
        }
      ]
    },
    {
      "cell_type": "code",
      "source": [
        "sum =0\n",
        "\n",
        "n=10000\n",
        "start = 1\n",
        "end = n\n",
        "\n",
        "for i in range(int(n/2)):\n",
        "\n",
        "  sum = sum +start +end\n",
        "\n",
        "  start = start + 1\n",
        "  end = end -1\n",
        "\n",
        "print(f\"sum = {sum}\")"
      ],
      "metadata": {
        "colab": {
          "base_uri": "https://localhost:8080/"
        },
        "id": "f6SFpGELjU5i",
        "outputId": "758ffef2-97b2-48be-d4a5-12d102d12ac9"
      },
      "execution_count": null,
      "outputs": [
        {
          "output_type": "stream",
          "name": "stdout",
          "text": [
            "sum = 50005000\n"
          ]
        }
      ]
    },
    {
      "cell_type": "code",
      "source": [
        "from typing import List\n",
        "\n",
        "def rotate( nums, k) -> None:\n",
        "    #####################################################\n",
        "    def reverse(array, start, end) -> None:\n",
        "        while start < end:\n",
        "            array[end], array[start] = array[start], array[end]\n",
        "            start += 1\n",
        "            end -= 1\n",
        "    #####################################################\n",
        "    n = len(nums)\n",
        "    if n == 0:\n",
        "        return\n",
        "\n",
        "    k = k % n  #  求余数\n",
        "    if k == 0:\n",
        "        return\n",
        "\n",
        "    reverse(nums, 0, n - 1)\n",
        "    reverse(nums, 0, k - 1)\n",
        "    reverse(nums, k, n - 1)\n",
        "##########################################################\n",
        "if __name__ == \"__main__\":\n",
        "\n",
        "    toy_line_1 = [1, 2, 3, 4, 5, 6, 7]\n",
        "    how_many_to_move_1 = 3\n",
        "    print(f\"Original list 1: {toy_line_1}\")\n",
        "\n",
        "    rotate(toy_line_1, how_many_to_move_1)\n",
        "\n",
        "    print(f\"Rotated list 1 (k={how_many_to_move_1}): {toy_line_1}\")\n",
        "    print(\"--------------------------------------------------------\")\n",
        "###################################################################\n",
        "    toy_line_2 = [10, 20, 30, 40]\n",
        "    how_many_to_move_2 = 1\n",
        "    print(f\"Original list 2: {toy_line_2}\")\n",
        "\n",
        "    rotate(toy_line_2, how_many_to_move_2)\n",
        "\n",
        "    print(f\"Rotated list 2 (k={how_many_to_move_2}): {toy_line_2}\")\n",
        "    print(\"--------------------------------------------------------\")"
      ],
      "metadata": {
        "id": "DHvqnIhkGhI1",
        "colab": {
          "base_uri": "https://localhost:8080/"
        },
        "outputId": "acf80a75-89d6-4422-a009-9b4badf9dcbd"
      },
      "execution_count": null,
      "outputs": [
        {
          "output_type": "stream",
          "name": "stdout",
          "text": [
            "Original list 1: [1, 2, 3, 4, 5, 6, 7]\n",
            "Rotated list 1 (k=3): [5, 6, 7, 1, 2, 3, 4]\n",
            "--------------------------------------------------------\n",
            "Original list 2: [10, 20, 30, 40]\n",
            "Rotated list 2 (k=1): [40, 10, 20, 30]\n",
            "--------------------------------------------------------\n"
          ]
        }
      ]
    },
    {
      "cell_type": "code",
      "source": [
        "import random\n",
        "\n",
        "print(\"Hi! Welcome to the Number Guessing Game.\\nYou have 7 chances to guess the number. Let's start!\")\n",
        "\n",
        "low = int(input(\"Enter the Lower Bound: \"))\n",
        "high = int(input(\"Enter the Upper Bound: \"))\n",
        "\n",
        "print(f\"\\nYou have 7 chances to guess the number between {low} and {high}. Let's start!\")\n",
        "\n",
        "num = random.randint(low, high)\n",
        "ch = 7                        # Total allowed chances\n",
        "gc = 0                        # Guess counter\n",
        "\n",
        "while gc < ch:\n",
        "    gc += 1\n",
        "    guess = int(input('Enter your guess: '))\n",
        "\n",
        "    if guess == num:\n",
        "        print(f'Correct! The number is {num}. You guessed it in {gc} attempts.')\n",
        "        break\n",
        "\n",
        "    elif gc >= ch and guess != num:\n",
        "        print(f'orry! The number was {num}. Better luck next time.')\n",
        "\n",
        "    elif guess > num:\n",
        "        print('Too high! Try a lower number.')\n",
        "\n",
        "    elif guess < num:\n",
        "        print('Too low! Try a higher number.')"
      ],
      "metadata": {
        "colab": {
          "base_uri": "https://localhost:8080/"
        },
        "id": "gxYkzWqqeSGf",
        "outputId": "5a5b387b-6ed5-4d90-db75-13d08d881b84"
      },
      "execution_count": null,
      "outputs": [
        {
          "output_type": "stream",
          "name": "stdout",
          "text": [
            "Hi! Welcome to the Number Guessing Game.\n",
            "You have 7 chances to guess the number. Let's start!\n",
            "Enter the Lower Bound: 40\n",
            "Enter the Upper Bound: 80\n",
            "\n",
            "You have 7 chances to guess the number between 40 and 80. Let's start!\n",
            "Enter your guess: 60\n",
            "Too low! Try a higher number.\n",
            "Enter your guess: 70\n",
            "Too low! Try a higher number.\n",
            "Enter your guess: 75\n",
            "Too high! Try a lower number.\n",
            "Enter your guess: 73\n",
            "Too low! Try a higher number.\n",
            "Enter your guess: 74\n",
            "Correct! The number is 74. You guessed it in 5 attempts.\n"
          ]
        }
      ]
    },
    {
      "cell_type": "code",
      "source": [
        "print(\"what is your name?\")\n",
        "name= input('What is your name: ')\n",
        "print(\"Riddle questions1:\")\n",
        "\n",
        "print(f\"{name}, if you had 10 fingers, you put 3 down, how many fingers do you have? you have 2 guesses\")\n",
        "\n",
        "\n",
        "counter =0\n",
        "ch =2\n",
        "\n",
        "while counter < ch:\n",
        "  counter  = counter +1\n",
        "\n",
        "  answer = int(input(\" what is your answer:\"))\n",
        "  if answer == 10:\n",
        "    print(f'correct {name}, great job\\n')\n",
        "    break\n",
        "  elif counter == ch and answer != 10:\n",
        "    print( f'Sorry, {name}, you approach your max trial chances, good luck next time\\n')\n",
        "  else:\n",
        "    answer = input(f'{name}, try again: ')\n",
        "\n",
        "print('########################################')\n",
        "print(\"Riddle questions2:\")\n",
        "\n",
        "print(f\"{name}, \")\n",
        "\n",
        "\n",
        "\n"
      ],
      "metadata": {
        "colab": {
          "base_uri": "https://localhost:8080/"
        },
        "id": "GB8f6WUle8At",
        "outputId": "3052dd82-3483-49df-9b96-1f1476179148"
      },
      "execution_count": null,
      "outputs": [
        {
          "output_type": "stream",
          "name": "stdout",
          "text": [
            "what is your name?\n",
            "What is your name: Katherine\n",
            "Riddle questions1:\n",
            "Katherine, if you had 10 fingers, you put 3 down, how many fingers do you have? you have 2 guesses\n",
            " what is your answer:10\n",
            "correctKatherine, great job\n",
            "\n",
            "########################################\n",
            "Riddle questions2:\n",
            "Katherine, \n"
          ]
        }
      ]
    },
    {
      "cell_type": "code",
      "source": [
        "print(10)"
      ],
      "metadata": {
        "colab": {
          "base_uri": "https://localhost:8080/"
        },
        "id": "2UoE2IZ-lBZp",
        "outputId": "902890a6-b04f-4676-9ae0-252d7791f55b"
      },
      "execution_count": null,
      "outputs": [
        {
          "output_type": "stream",
          "name": "stdout",
          "text": [
            "10\n"
          ]
        }
      ]
    },
    {
      "cell_type": "code",
      "source": [
        "print('010')"
      ],
      "metadata": {
        "colab": {
          "base_uri": "https://localhost:8080/"
        },
        "id": "68cXtnO8lEgf",
        "outputId": "d7415e26-42c6-40f9-c46d-1a83cdeb7856"
      },
      "execution_count": null,
      "outputs": [
        {
          "output_type": "stream",
          "name": "stdout",
          "text": [
            "010\n"
          ]
        }
      ]
    }
  ]
}